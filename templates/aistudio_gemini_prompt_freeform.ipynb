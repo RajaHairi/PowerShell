{
  "cells": [
    {
      "cell_type": "markdown",
      "metadata": {
        "id": "view-in-github",
        "colab_type": "text"
      },
      "source": [
        "<a href=\"https://colab.research.google.com/github/RajaHairi/PowerShell/blob/master/templates/aistudio_gemini_prompt_freeform.ipynb\" target=\"_parent\"><img src=\"https://colab.research.google.com/assets/colab-badge.svg\" alt=\"Open In Colab\"/></a>"
      ]
    },
    {
      "cell_type": "markdown",
      "metadata": {
        "id": "Tce3stUlHN0L"
      },
      "source": [
        "##### Copyright 2023 Google LLC"
      ]
    },
    {
      "cell_type": "code",
      "execution_count": 1,
      "metadata": {
        "cellView": "form",
        "id": "tuOe1ymfHZPu"
      },
      "outputs": [],
      "source": [
        "# @title Licensed under the Apache License, Version 2.0 (the \"License\");\n",
        "# you may not use this file except in compliance with the License.\n",
        "# You may obtain a copy of the License at\n",
        "#\n",
        "# https://www.apache.org/licenses/LICENSE-2.0\n",
        "#\n",
        "# Unless required by applicable law or agreed to in writing, software\n",
        "# distributed under the License is distributed on an \"AS IS\" BASIS,\n",
        "# WITHOUT WARRANTIES OR CONDITIONS OF ANY KIND, either express or implied.\n",
        "# See the License for the specific language governing permissions and\n",
        "# limitations under the License."
      ]
    },
    {
      "cell_type": "markdown",
      "metadata": {
        "id": "FKwyTRdwB8aW"
      },
      "source": [
        "## Setup"
      ]
    },
    {
      "cell_type": "code",
      "execution_count": 2,
      "metadata": {
        "id": "RXInneX6xx7c"
      },
      "outputs": [],
      "source": [
        "!pip install -U -q \"google-generativeai>=0.8.2\""
      ]
    },
    {
      "cell_type": "code",
      "execution_count": 3,
      "metadata": {
        "cellView": "form",
        "id": "kWIuwKG2_oWE",
        "colab": {
          "base_uri": "https://localhost:8080/",
          "height": 349
        },
        "outputId": "35ac7b79-06de-425e-f348-baeb50a0b18b"
      },
      "outputs": [
        {
          "output_type": "error",
          "ename": "TimeoutException",
          "evalue": "Requesting secret GOOGLE_API_KEY timed out. Secrets can only be fetched when running from the Colab UI.",
          "traceback": [
            "\u001b[0;31m---------------------------------------------------------------------------\u001b[0m",
            "\u001b[0;31mTimeoutException\u001b[0m                          Traceback (most recent call last)",
            "\u001b[0;32m<ipython-input-3-77fade0da1ea>\u001b[0m in \u001b[0;36m<cell line: 13>\u001b[0;34m()\u001b[0m\n\u001b[1;32m     17\u001b[0m     \u001b[0;32mfrom\u001b[0m \u001b[0mgoogle\u001b[0m\u001b[0;34m.\u001b[0m\u001b[0mcolab\u001b[0m \u001b[0;32mimport\u001b[0m \u001b[0muserdata\u001b[0m\u001b[0;34m\u001b[0m\u001b[0;34m\u001b[0m\u001b[0m\n\u001b[1;32m     18\u001b[0m \u001b[0;34m\u001b[0m\u001b[0m\n\u001b[0;32m---> 19\u001b[0;31m     \u001b[0mos\u001b[0m\u001b[0;34m.\u001b[0m\u001b[0menviron\u001b[0m\u001b[0;34m[\u001b[0m\u001b[0;34m\"GOOGLE_API_KEY\"\u001b[0m\u001b[0;34m]\u001b[0m \u001b[0;34m=\u001b[0m \u001b[0muserdata\u001b[0m\u001b[0;34m.\u001b[0m\u001b[0mget\u001b[0m\u001b[0;34m(\u001b[0m\u001b[0;34m\"GOOGLE_API_KEY\"\u001b[0m\u001b[0;34m)\u001b[0m\u001b[0;34m\u001b[0m\u001b[0;34m\u001b[0m\u001b[0m\n\u001b[0m\u001b[1;32m     20\u001b[0m \u001b[0;32mexcept\u001b[0m \u001b[0mImportError\u001b[0m\u001b[0;34m:\u001b[0m\u001b[0;34m\u001b[0m\u001b[0;34m\u001b[0m\u001b[0m\n\u001b[1;32m     21\u001b[0m     \u001b[0;32mpass\u001b[0m\u001b[0;34m\u001b[0m\u001b[0;34m\u001b[0m\u001b[0m\n",
            "\u001b[0;32m/usr/local/lib/python3.10/dist-packages/google/colab/userdata.py\u001b[0m in \u001b[0;36mget\u001b[0;34m(key)\u001b[0m\n\u001b[1;32m     64\u001b[0m     )\n\u001b[1;32m     65\u001b[0m   \u001b[0;32mif\u001b[0m \u001b[0;32mnot\u001b[0m \u001b[0mresp\u001b[0m\u001b[0;34m:\u001b[0m\u001b[0;34m\u001b[0m\u001b[0;34m\u001b[0m\u001b[0m\n\u001b[0;32m---> 66\u001b[0;31m     \u001b[0;32mraise\u001b[0m \u001b[0mTimeoutException\u001b[0m\u001b[0;34m(\u001b[0m\u001b[0mkey\u001b[0m\u001b[0;34m)\u001b[0m\u001b[0;34m\u001b[0m\u001b[0;34m\u001b[0m\u001b[0m\n\u001b[0m\u001b[1;32m     67\u001b[0m   \u001b[0;32mif\u001b[0m \u001b[0;32mnot\u001b[0m \u001b[0mresp\u001b[0m\u001b[0;34m.\u001b[0m\u001b[0mget\u001b[0m\u001b[0;34m(\u001b[0m\u001b[0;34m'exists'\u001b[0m\u001b[0;34m,\u001b[0m \u001b[0;32mFalse\u001b[0m\u001b[0;34m)\u001b[0m\u001b[0;34m:\u001b[0m\u001b[0;34m\u001b[0m\u001b[0;34m\u001b[0m\u001b[0m\n\u001b[1;32m     68\u001b[0m     \u001b[0;32mraise\u001b[0m \u001b[0mSecretNotFoundError\u001b[0m\u001b[0;34m(\u001b[0m\u001b[0mkey\u001b[0m\u001b[0;34m)\u001b[0m\u001b[0;34m\u001b[0m\u001b[0;34m\u001b[0m\u001b[0m\n",
            "\u001b[0;31mTimeoutException\u001b[0m: Requesting secret GOOGLE_API_KEY timed out. Secrets can only be fetched when running from the Colab UI."
          ]
        }
      ],
      "source": [
        "# import necessary modules.\n",
        "import base64\n",
        "import copy\n",
        "import json\n",
        "import pathlib\n",
        "import requests\n",
        "\n",
        "\n",
        "import PIL.Image\n",
        "import IPython.display\n",
        "from IPython.display import Markdown\n",
        "\n",
        "try:\n",
        "    # The SDK will automatically read it from the GOOGLE_API_KEY environment variable.\n",
        "    # In Colab get the key from Colab-secrets (\"🔑\" in the left panel).\n",
        "    import os\n",
        "    from google.colab import userdata\n",
        "\n",
        "    os.environ[\"GOOGLE_API_KEY\"] = userdata.get(\"GOOGLE_API_KEY\")\n",
        "except ImportError:\n",
        "    pass\n",
        "\n",
        "import google.generativeai as genai\n",
        "\n",
        "# Parse the arguments\n",
        "\n",
        "model = 'gemini-1.5-flash' # @param {isTemplate: true}\n",
        "contents_b64 = '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' # @param {isTemplate: true}\n",
        "generation_config_b64 = 'eyJ0ZW1wZXJhdHVyZSI6MSwidG9wX3AiOjAuOTUsInRvcF9rIjo2NCwibWF4X291dHB1dF90b2tlbnMiOjgxOTJ9' # @param {isTemplate: true}\n",
        "safety_settings_b64 = \"e30=\"  # @param {isTemplate: true}\n",
        "\n",
        "gais_contents = json.loads(base64.b64decode(contents_b64))\n",
        "\n",
        "generation_config = json.loads(base64.b64decode(generation_config_b64))\n",
        "safety_settings = json.loads(base64.b64decode(safety_settings_b64))\n",
        "\n",
        "stream = False\n",
        "\n",
        "# Convert and upload the files\n",
        "\n",
        "tempfiles = pathlib.Path(f\"tempfiles\")\n",
        "tempfiles.mkdir(parents=True, exist_ok=True)\n",
        "\n",
        "\n",
        "drive = None\n",
        "def upload_file_data(file_data, index):\n",
        "    \"\"\"Upload files to the Files API.\n",
        "\n",
        "    For each file, Google AI Studio either sent:\n",
        "    - a Google Drive ID,\n",
        "    - a URL,\n",
        "    - a file path, or\n",
        "    - The raw bytes (`inline_data`).\n",
        "\n",
        "    The API only understands `inline_data` or it's Files API.\n",
        "    This code, uploads files to the files API where the API can access them.\n",
        "    \"\"\"\n",
        "\n",
        "    mime_type = file_data[\"mime_type\"]\n",
        "    if drive_id := file_data.pop(\"drive_id\", None):\n",
        "        if drive is None:\n",
        "          from google.colab import drive\n",
        "          drive.mount(\"/gdrive\")\n",
        "\n",
        "        path = next(\n",
        "            pathlib.Path(f\"/gdrive/.shortcut-targets-by-id/{drive_id}\").glob(\"*\")\n",
        "        )\n",
        "        print(\"Uploading:\", str(path))\n",
        "        file_info = genai.upload_file(path=path, mime_type=mime_type)\n",
        "        file_data[\"file_uri\"] = file_info.uri\n",
        "        return\n",
        "\n",
        "    if url := file_data.pop(\"url\", None):\n",
        "        response = requests.get(url)\n",
        "        data = response.content\n",
        "        name = url.split(\"/\")[-1]\n",
        "        path = tempfiles / str(index)\n",
        "        path.write_bytes(data)\n",
        "        print(\"Uploading:\", url)\n",
        "        file_info = genai.upload_file(path, display_name=name, mime_type=mime_type)\n",
        "        file_data[\"file_uri\"] = file_info.uri\n",
        "        return\n",
        "\n",
        "    if name := file_data.get(\"filename\", None):\n",
        "        if not pathlib.Path(name).exists():\n",
        "            raise IOError(\n",
        "                f\"local file: `{name}` does not exist. You can upload files \"\n",
        "                'to Colab using the file manager (\"📁 Files\" in the left '\n",
        "                \"toolbar)\"\n",
        "            )\n",
        "        file_info = genai.upload_file(path, display_name=name, mime_type=mime_type)\n",
        "        file_data[\"file_uri\"] = file_info.uri\n",
        "        return\n",
        "\n",
        "    if \"inline_data\" in file_data:\n",
        "        return\n",
        "\n",
        "    raise ValueError(\"Either `drive_id`, `url` or `inline_data` must be provided.\")\n",
        "\n",
        "\n",
        "contents = copy.deepcopy(gais_contents)\n",
        "\n",
        "index = 0\n",
        "for content in contents:\n",
        "    for n, part in enumerate(content[\"parts\"]):\n",
        "        if file_data := part.get(\"file_data\", None):\n",
        "            upload_file_data(file_data, index)\n",
        "            index += 1\n",
        "\n",
        "import json\n",
        "print(json.dumps(contents, indent=4))"
      ]
    },
    {
      "cell_type": "markdown",
      "metadata": {
        "id": "E7zAD69vE92b"
      },
      "source": [
        "## Call `generate_content`"
      ]
    },
    {
      "cell_type": "code",
      "execution_count": null,
      "metadata": {
        "id": "LB2LxPmAB95V"
      },
      "outputs": [],
      "source": [
        "from IPython.display import display\n",
        "from IPython.display import Markdown\n",
        "\n",
        "# Call the model and print the response.\n",
        "gemini = genai.GenerativeModel(model_name=model)\n",
        "\n",
        "response = gemini.generate_content(\n",
        "    contents,\n",
        "    generation_config=generation_config,\n",
        "    safety_settings=safety_settings,\n",
        "    stream=stream,\n",
        ")\n",
        "\n",
        "display(Markdown(response.text))"
      ]
    },
    {
      "cell_type": "markdown",
      "metadata": {
        "id": "9c9d345e9868"
      },
      "source": [
        "<table class=\"tfo-notebook-buttons\" align=\"left\">\n",
        "  <td>\n",
        "    <a target=\"_blank\" href=\"https://ai.google.dev/gemini-api/docs\"><img src=\"https://ai.google.dev/static/site-assets/images/docs/notebook-site-button.png\" height=\"32\" width=\"32\" />Docs on ai.google.dev</a>\n",
        "  </td>\n",
        "  <td>\n",
        "    <a target=\"_blank\" href=\"https://github.com/google-gemini/cookbook/blob/main/quickstarts\"><img src=\"https://www.tensorflow.org/images/GitHub-Mark-32px.png\" />More notebooks in the Cookbook</a>\n",
        "  </td>\n",
        "</table>"
      ]
    },
    {
      "cell_type": "markdown",
      "metadata": {
        "id": "F91AeeGO1ncU"
      },
      "source": [
        "## [optional] Show the conversation\n",
        "\n",
        "This section displays the conversation received from Google AI Studio."
      ]
    },
    {
      "cell_type": "code",
      "execution_count": null,
      "metadata": {
        "cellView": "form",
        "id": "yoL3p3KPylFW"
      },
      "outputs": [],
      "source": [
        "# @title Show the conversation, in colab.\n",
        "import mimetypes\n",
        "\n",
        "def show_file(file_data):\n",
        "    mime_type = file_data[\"mime_type\"]\n",
        "\n",
        "    if drive_id := file_data.get(\"drive_id\", None):\n",
        "        path = next(\n",
        "            pathlib.Path(f\"/gdrive/.shortcut-targets-by-id/{drive_id}\").glob(\"*\")\n",
        "        )\n",
        "        name = path\n",
        "        # data = path.read_bytes()\n",
        "        kwargs = {\"filename\": path}\n",
        "    elif url := file_data.get(\"url\", None):\n",
        "        name = url\n",
        "        kwargs = {\"url\": url}\n",
        "        # response = requests.get(url)\n",
        "        # data = response.content\n",
        "    elif data := file_data.get(\"inline_data\", None):\n",
        "        name = None\n",
        "        kwargs = {\"data\": data}\n",
        "    elif name := file_data.get(\"filename\", None):\n",
        "        if not pathlib.Path(name).exists():\n",
        "            raise IOError(\n",
        "                f\"local file: `{name}` does not exist. You can upload files to \"\n",
        "                'Colab using the file manager (\"📁 Files\"in the left toolbar)'\n",
        "            )\n",
        "    else:\n",
        "        raise ValueError(\"Either `drive_id`, `url` or `inline_data` must be provided.\")\n",
        "\n",
        "        print(f\"File:\\n    name: {name}\\n    mime_type: {mime_type}\\n\")\n",
        "        return\n",
        "\n",
        "    format = mimetypes.guess_extension(mime_type).strip(\".\")\n",
        "    if mime_type.startswith(\"image/\"):\n",
        "        image = IPython.display.Image(**kwargs, width=256)\n",
        "        IPython.display.display(image)\n",
        "        print()\n",
        "        return\n",
        "\n",
        "    if mime_type.startswith(\"audio/\"):\n",
        "        if len(data) < 2**12:\n",
        "            audio = IPython.display.Audio(**kwargs)\n",
        "            IPython.display.display(audio)\n",
        "            print()\n",
        "            return\n",
        "\n",
        "    if mime_type.startswith(\"video/\"):\n",
        "        if len(data) < 2**12:\n",
        "            audio = IPython.display.Video(**kwargs, mimetype=mime_type)\n",
        "            IPython.display.display(audio)\n",
        "            print()\n",
        "            return\n",
        "\n",
        "    print(f\"File:\\n    name: {name}\\n    mime_type: {mime_type}\\n\")\n",
        "\n",
        "\n",
        "for content in gais_contents:\n",
        "    if role := content.get(\"role\", None):\n",
        "        print(\"Role:\", role, \"\\n\")\n",
        "\n",
        "    for n, part in enumerate(content[\"parts\"]):\n",
        "        if text := part.get(\"text\", None):\n",
        "            print(text, \"\\n\")\n",
        "\n",
        "        elif file_data := part.get(\"file_data\", None):\n",
        "            show_file(file_data)\n",
        "\n",
        "    print(\"-\" * 80, \"\\n\")"
      ]
    }
  ],
  "metadata": {
    "colab": {
      "collapsed_sections": [
        "Tce3stUlHN0L"
      ],
      "name": "aistudio_gemini_prompt_freeform.ipynb",
      "toc_visible": true,
      "provenance": [],
      "include_colab_link": true
    },
    "kernelspec": {
      "display_name": "Python 3",
      "name": "python3"
    }
  },
  "nbformat": 4,
  "nbformat_minor": 0
}